{
 "cells": [
  {
   "cell_type": "code",
   "execution_count": 1,
   "metadata": {},
   "outputs": [],
   "source": [
    "from pyspark.sql import SparkSession"
   ]
  },
  {
   "cell_type": "code",
   "execution_count": 2,
   "metadata": {},
   "outputs": [],
   "source": [
    "spark = SparkSession.builder.appName('basics').getOrCreate()"
   ]
  },
  {
   "cell_type": "code",
   "execution_count": 3,
   "metadata": {},
   "outputs": [],
   "source": [
    "df = spark.read.json('funcionarios.json')"
   ]
  },
  {
   "cell_type": "code",
   "execution_count": 4,
   "metadata": {},
   "outputs": [
    {
     "name": "stdout",
     "output_type": "stream",
     "text": [
      "+---------+----------------+-------+---------------+-------+\n",
      "|    cargo|    departamento|id_func|           nome|salario|\n",
      "+---------+----------------+-------+---------------+-------+\n",
      "| Analista|        Projetos|      1|  Marcio Santos|   5000|\n",
      "|Instrutor|     Treinamento|      2|   Bruno Garcia|   4000|\n",
      "|Vendedora|          Vendas|      3|    Celia Silva|   3500|\n",
      "| Gerencia|Recursos Humanos|      4|   Beatriz Dias|   5500|\n",
      "|Instrutor|     Treinamento|      5| Sandro Correia|   4200|\n",
      "| Analista|        Projetos|      6|   Leticia Dias|   5100|\n",
      "| Analista|        Projetos|      7|   Cacio Farias|   5100|\n",
      "| Gerencia|   Administracao|      8|     Cezar Maia|   7000|\n",
      "|Vendedora|          Vendas|      9|   Amanda Nunes|   3500|\n",
      "|Vendedora|          Vendas|     10|   Paula Priore|   3500|\n",
      "| Analista|        Projetos|     11|     Carla Neto|   4000|\n",
      "|Vendedora|          Vendas|     12|   Marcia Costa|   2700|\n",
      "| Analista|Recursos Humanos|     13|  Luciana Prado|   4100|\n",
      "|Vendedora|          Vendas|     14| Roberta Amaral|   2800|\n",
      "|Instrutor|     Treinamento|     15|Rogerio Ribeiro|   4000|\n",
      "|Vendedora|          Vendas|     16|   Rosana Rocha|   3000|\n",
      "| Analista|        Projetos|     17|Claudio Queiroz|   6500|\n",
      "| Gerencia|   Administracao|     18|   Diego Chaves|   7500|\n",
      "|Instrutor|     Treinamento|     19|Sergio Nogueira|   5300|\n",
      "|Vendedora|          Vendas|     20|  Samantha Reis|   4000|\n",
      "+---------+----------------+-------+---------------+-------+\n",
      "\n"
     ]
    }
   ],
   "source": [
    "df.show()"
   ]
  },
  {
   "cell_type": "code",
   "execution_count": 5,
   "metadata": {},
   "outputs": [],
   "source": [
    "df.createOrReplaceTempView('funcionarios')"
   ]
  },
  {
   "cell_type": "code",
   "execution_count": 6,
   "metadata": {},
   "outputs": [
    {
     "name": "stdout",
     "output_type": "stream",
     "text": [
      "+---------+----------------+-------+---------------+-------+\n",
      "|    cargo|    departamento|id_func|           nome|salario|\n",
      "+---------+----------------+-------+---------------+-------+\n",
      "| Analista|        Projetos|      1|  Marcio Santos|   5000|\n",
      "|Instrutor|     Treinamento|      2|   Bruno Garcia|   4000|\n",
      "|Vendedora|          Vendas|      3|    Celia Silva|   3500|\n",
      "| Gerencia|Recursos Humanos|      4|   Beatriz Dias|   5500|\n",
      "|Instrutor|     Treinamento|      5| Sandro Correia|   4200|\n",
      "| Analista|        Projetos|      6|   Leticia Dias|   5100|\n",
      "| Analista|        Projetos|      7|   Cacio Farias|   5100|\n",
      "| Gerencia|   Administracao|      8|     Cezar Maia|   7000|\n",
      "|Vendedora|          Vendas|      9|   Amanda Nunes|   3500|\n",
      "|Vendedora|          Vendas|     10|   Paula Priore|   3500|\n",
      "| Analista|        Projetos|     11|     Carla Neto|   4000|\n",
      "|Vendedora|          Vendas|     12|   Marcia Costa|   2700|\n",
      "| Analista|Recursos Humanos|     13|  Luciana Prado|   4100|\n",
      "|Vendedora|          Vendas|     14| Roberta Amaral|   2800|\n",
      "|Instrutor|     Treinamento|     15|Rogerio Ribeiro|   4000|\n",
      "|Vendedora|          Vendas|     16|   Rosana Rocha|   3000|\n",
      "| Analista|        Projetos|     17|Claudio Queiroz|   6500|\n",
      "| Gerencia|   Administracao|     18|   Diego Chaves|   7500|\n",
      "|Instrutor|     Treinamento|     19|Sergio Nogueira|   5300|\n",
      "|Vendedora|          Vendas|     20|  Samantha Reis|   4000|\n",
      "+---------+----------------+-------+---------------+-------+\n",
      "\n"
     ]
    }
   ],
   "source": [
    "spark.sql('SELECT *FROM funcionarios').show()\n"
   ]
  },
  {
   "cell_type": "code",
   "execution_count": 7,
   "metadata": {},
   "outputs": [],
   "source": [
    "def execute_query(query):\n",
    "    spark.sql(query).show()    "
   ]
  },
  {
   "cell_type": "code",
   "execution_count": 8,
   "metadata": {},
   "outputs": [
    {
     "name": "stdout",
     "output_type": "stream",
     "text": [
      "+---------+----------------+-------+---------------+-------+\n",
      "|    cargo|    departamento|id_func|           nome|salario|\n",
      "+---------+----------------+-------+---------------+-------+\n",
      "| Analista|        Projetos|      1|  Marcio Santos|   5000|\n",
      "|Instrutor|     Treinamento|      2|   Bruno Garcia|   4000|\n",
      "|Vendedora|          Vendas|      3|    Celia Silva|   3500|\n",
      "| Gerencia|Recursos Humanos|      4|   Beatriz Dias|   5500|\n",
      "|Instrutor|     Treinamento|      5| Sandro Correia|   4200|\n",
      "| Analista|        Projetos|      6|   Leticia Dias|   5100|\n",
      "| Analista|        Projetos|      7|   Cacio Farias|   5100|\n",
      "| Gerencia|   Administracao|      8|     Cezar Maia|   7000|\n",
      "|Vendedora|          Vendas|      9|   Amanda Nunes|   3500|\n",
      "|Vendedora|          Vendas|     10|   Paula Priore|   3500|\n",
      "| Analista|        Projetos|     11|     Carla Neto|   4000|\n",
      "|Vendedora|          Vendas|     12|   Marcia Costa|   2700|\n",
      "| Analista|Recursos Humanos|     13|  Luciana Prado|   4100|\n",
      "|Vendedora|          Vendas|     14| Roberta Amaral|   2800|\n",
      "|Instrutor|     Treinamento|     15|Rogerio Ribeiro|   4000|\n",
      "|Vendedora|          Vendas|     16|   Rosana Rocha|   3000|\n",
      "| Analista|        Projetos|     17|Claudio Queiroz|   6500|\n",
      "| Gerencia|   Administracao|     18|   Diego Chaves|   7500|\n",
      "|Instrutor|     Treinamento|     19|Sergio Nogueira|   5300|\n",
      "|Vendedora|          Vendas|     20|  Samantha Reis|   4000|\n",
      "+---------+----------------+-------+---------------+-------+\n",
      "\n"
     ]
    }
   ],
   "source": [
    "execute_query('SELECT * FROM funcionarios')"
   ]
  },
  {
   "cell_type": "code",
   "execution_count": 9,
   "metadata": {},
   "outputs": [
    {
     "name": "stdout",
     "output_type": "stream",
     "text": [
      "+---------+\n",
      "|    cargo|\n",
      "+---------+\n",
      "|Vendedora|\n",
      "|Instrutor|\n",
      "| Gerencia|\n",
      "| Analista|\n",
      "+---------+\n",
      "\n"
     ]
    }
   ],
   "source": [
    "execute_query('SELECT DISTINCT cargo FROM funcionarios')"
   ]
  },
  {
   "cell_type": "code",
   "execution_count": 10,
   "metadata": {},
   "outputs": [
    {
     "name": "stdout",
     "output_type": "stream",
     "text": [
      "+---------+----------------+-------+---------------+-------+\n",
      "|    cargo|    departamento|id_func|           nome|salario|\n",
      "+---------+----------------+-------+---------------+-------+\n",
      "| Analista|        Projetos|      1|  Marcio Santos|   5000|\n",
      "| Gerencia|Recursos Humanos|      4|   Beatriz Dias|   5500|\n",
      "|Instrutor|     Treinamento|      5| Sandro Correia|   4200|\n",
      "| Analista|        Projetos|      6|   Leticia Dias|   5100|\n",
      "| Analista|        Projetos|      7|   Cacio Farias|   5100|\n",
      "| Gerencia|   Administracao|      8|     Cezar Maia|   7000|\n",
      "| Analista|Recursos Humanos|     13|  Luciana Prado|   4100|\n",
      "| Analista|        Projetos|     17|Claudio Queiroz|   6500|\n",
      "| Gerencia|   Administracao|     18|   Diego Chaves|   7500|\n",
      "|Instrutor|     Treinamento|     19|Sergio Nogueira|   5300|\n",
      "+---------+----------------+-------+---------------+-------+\n",
      "\n"
     ]
    }
   ],
   "source": [
    "execute_query('SELECT * FROM funcionarios WHERE Salario > 4000')"
   ]
  },
  {
   "cell_type": "code",
   "execution_count": 11,
   "metadata": {},
   "outputs": [
    {
     "name": "stdout",
     "output_type": "stream",
     "text": [
      "root\n",
      " |-- cargo: string (nullable = true)\n",
      " |-- departamento: string (nullable = true)\n",
      " |-- id_func: long (nullable = true)\n",
      " |-- nome: string (nullable = true)\n",
      " |-- salario: long (nullable = true)\n",
      "\n"
     ]
    }
   ],
   "source": [
    "df.printSchema()"
   ]
  },
  {
   "cell_type": "code",
   "execution_count": 12,
   "metadata": {},
   "outputs": [],
   "source": [
    "from pyspark.sql.types import ( \n",
    "    StructField, \n",
    "    StringType, \n",
    "    IntegerType, \n",
    "    StructType\n",
    "                               )\n",
    "schema = StructType(fields=[\n",
    "    StructField('cargo',StringType(), nullable=True), \n",
    "    StructField('departamento',StringType(), nullable=True), \n",
    "    StructField('id_func', IntegerType(), nullable=True), \n",
    "    StructField('nome', StringType(), nullable=True),\n",
    "    StructField('salario', StringType(), nullable=True)\n",
    "                           ])\n",
    "df  = spark.read.json('funcionarios.json', schema)"
   ]
  },
  {
   "cell_type": "code",
   "execution_count": 13,
   "metadata": {},
   "outputs": [
    {
     "data": {
      "text/plain": [
       "DataFrame[nome: string]"
      ]
     },
     "execution_count": 13,
     "metadata": {},
     "output_type": "execute_result"
    }
   ],
   "source": [
    "df.select('nome')"
   ]
  },
  {
   "cell_type": "code",
   "execution_count": 14,
   "metadata": {},
   "outputs": [
    {
     "name": "stdout",
     "output_type": "stream",
     "text": [
      "+---------------+-------+\n",
      "|           nome|id_func|\n",
      "+---------------+-------+\n",
      "|  Marcio Santos|      1|\n",
      "|   Bruno Garcia|      2|\n",
      "|    Celia Silva|      3|\n",
      "|   Beatriz Dias|      4|\n",
      "| Sandro Correia|      5|\n",
      "|   Leticia Dias|      6|\n",
      "|   Cacio Farias|      7|\n",
      "|     Cezar Maia|      8|\n",
      "|   Amanda Nunes|      9|\n",
      "|   Paula Priore|     10|\n",
      "|     Carla Neto|     11|\n",
      "|   Marcia Costa|     12|\n",
      "|  Luciana Prado|     13|\n",
      "| Roberta Amaral|     14|\n",
      "|Rogerio Ribeiro|     15|\n",
      "|   Rosana Rocha|     16|\n",
      "|Claudio Queiroz|     17|\n",
      "|   Diego Chaves|     18|\n",
      "|Sergio Nogueira|     19|\n",
      "|  Samantha Reis|     20|\n",
      "+---------------+-------+\n",
      "\n"
     ]
    }
   ],
   "source": [
    "df.select(['nome','id_func']).show()"
   ]
  },
  {
   "cell_type": "code",
   "execution_count": 15,
   "metadata": {},
   "outputs": [
    {
     "name": "stdout",
     "output_type": "stream",
     "text": [
      "root\n",
      " |-- cargo: string (nullable = true)\n",
      " |-- departamento: string (nullable = true)\n",
      " |-- id_func: integer (nullable = true)\n",
      " |-- nome: string (nullable = true)\n",
      " |-- salario: string (nullable = true)\n",
      "\n"
     ]
    }
   ],
   "source": [
    "df.printSchema()"
   ]
  },
  {
   "cell_type": "code",
   "execution_count": 16,
   "metadata": {},
   "outputs": [
    {
     "name": "stdout",
     "output_type": "stream",
     "text": [
      "+---------+----------------+-------+---------------+-------+------------+\n",
      "|    cargo|    departamento|id_func|           nome|salario|gratificacao|\n",
      "+---------+----------------+-------+---------------+-------+------------+\n",
      "| Analista|        Projetos|      1|  Marcio Santos|   5000|      4000.0|\n",
      "|Instrutor|     Treinamento|      2|   Bruno Garcia|   4000|      3200.0|\n",
      "|Vendedora|          Vendas|      3|    Celia Silva|   3500|      2800.0|\n",
      "| Gerencia|Recursos Humanos|      4|   Beatriz Dias|   5500|      4400.0|\n",
      "|Instrutor|     Treinamento|      5| Sandro Correia|   4200|      3360.0|\n",
      "| Analista|        Projetos|      6|   Leticia Dias|   5100|      4080.0|\n",
      "| Analista|        Projetos|      7|   Cacio Farias|   5100|      4080.0|\n",
      "| Gerencia|   Administracao|      8|     Cezar Maia|   7000|      5600.0|\n",
      "|Vendedora|          Vendas|      9|   Amanda Nunes|   3500|      2800.0|\n",
      "|Vendedora|          Vendas|     10|   Paula Priore|   3500|      2800.0|\n",
      "| Analista|        Projetos|     11|     Carla Neto|   4000|      3200.0|\n",
      "|Vendedora|          Vendas|     12|   Marcia Costa|   2700|      2160.0|\n",
      "| Analista|Recursos Humanos|     13|  Luciana Prado|   4100|      3280.0|\n",
      "|Vendedora|          Vendas|     14| Roberta Amaral|   2800|      2240.0|\n",
      "|Instrutor|     Treinamento|     15|Rogerio Ribeiro|   4000|      3200.0|\n",
      "|Vendedora|          Vendas|     16|   Rosana Rocha|   3000|      2400.0|\n",
      "| Analista|        Projetos|     17|Claudio Queiroz|   6500|      5200.0|\n",
      "| Gerencia|   Administracao|     18|   Diego Chaves|   7500|      6000.0|\n",
      "|Instrutor|     Treinamento|     19|Sergio Nogueira|   5300|      4240.0|\n",
      "|Vendedora|          Vendas|     20|  Samantha Reis|   4000|      3200.0|\n",
      "+---------+----------------+-------+---------------+-------+------------+\n",
      "\n"
     ]
    }
   ],
   "source": [
    "df.withColumn('gratificacao',df['salario']* 0.8).show()"
   ]
  },
  {
   "cell_type": "code",
   "execution_count": 19,
   "metadata": {},
   "outputs": [
    {
     "name": "stdout",
     "output_type": "stream",
     "text": [
      "+---------+----------------+-------+---------------+-------+------------+\n",
      "|    cargo|    departamento|id_func|           nome|salario|gratificacao|\n",
      "+---------+----------------+-------+---------------+-------+------------+\n",
      "| Analista|        Projetos|      1|  Marcio Santos|   5000|      5001.0|\n",
      "|Instrutor|     Treinamento|      2|   Bruno Garcia|   4000|      4002.0|\n",
      "|Vendedora|          Vendas|      3|    Celia Silva|   3500|      3503.0|\n",
      "| Gerencia|Recursos Humanos|      4|   Beatriz Dias|   5500|      5504.0|\n",
      "|Instrutor|     Treinamento|      5| Sandro Correia|   4200|      4205.0|\n",
      "| Analista|        Projetos|      6|   Leticia Dias|   5100|      5106.0|\n",
      "| Analista|        Projetos|      7|   Cacio Farias|   5100|      5107.0|\n",
      "| Gerencia|   Administracao|      8|     Cezar Maia|   7000|      7008.0|\n",
      "|Vendedora|          Vendas|      9|   Amanda Nunes|   3500|      3509.0|\n",
      "|Vendedora|          Vendas|     10|   Paula Priore|   3500|      3510.0|\n",
      "| Analista|        Projetos|     11|     Carla Neto|   4000|      4011.0|\n",
      "|Vendedora|          Vendas|     12|   Marcia Costa|   2700|      2712.0|\n",
      "| Analista|Recursos Humanos|     13|  Luciana Prado|   4100|      4113.0|\n",
      "|Vendedora|          Vendas|     14| Roberta Amaral|   2800|      2814.0|\n",
      "|Instrutor|     Treinamento|     15|Rogerio Ribeiro|   4000|      4015.0|\n",
      "|Vendedora|          Vendas|     16|   Rosana Rocha|   3000|      3016.0|\n",
      "| Analista|        Projetos|     17|Claudio Queiroz|   6500|      6517.0|\n",
      "| Gerencia|   Administracao|     18|   Diego Chaves|   7500|      7518.0|\n",
      "|Instrutor|     Treinamento|     19|Sergio Nogueira|   5300|      5319.0|\n",
      "|Vendedora|          Vendas|     20|  Samantha Reis|   4000|      4020.0|\n",
      "+---------+----------------+-------+---------------+-------+------------+\n",
      "\n"
     ]
    }
   ],
   "source": [
    "df.withColumn('gratificacao',df['salario'] + df['id_func']).show()"
   ]
  },
  {
   "cell_type": "code",
   "execution_count": 22,
   "metadata": {},
   "outputs": [
    {
     "data": {
      "text/plain": [
       "['Builder',\n",
       " '__class__',\n",
       " '__delattr__',\n",
       " '__dict__',\n",
       " '__dir__',\n",
       " '__doc__',\n",
       " '__enter__',\n",
       " '__eq__',\n",
       " '__exit__',\n",
       " '__format__',\n",
       " '__ge__',\n",
       " '__getattribute__',\n",
       " '__gt__',\n",
       " '__hash__',\n",
       " '__init__',\n",
       " '__init_subclass__',\n",
       " '__le__',\n",
       " '__lt__',\n",
       " '__module__',\n",
       " '__ne__',\n",
       " '__new__',\n",
       " '__reduce__',\n",
       " '__reduce_ex__',\n",
       " '__repr__',\n",
       " '__setattr__',\n",
       " '__sizeof__',\n",
       " '__str__',\n",
       " '__subclasshook__',\n",
       " '__weakref__',\n",
       " '_convert_from_pandas',\n",
       " '_createFromLocal',\n",
       " '_createFromRDD',\n",
       " '_create_from_pandas_with_arrow',\n",
       " '_create_shell_session',\n",
       " '_get_numpy_record_dtype',\n",
       " '_inferSchema',\n",
       " '_inferSchemaFromList',\n",
       " '_instantiatedSession',\n",
       " '_jsc',\n",
       " '_jsparkSession',\n",
       " '_jvm',\n",
       " '_jwrapped',\n",
       " '_repr_html_',\n",
       " '_sc',\n",
       " '_wrapped',\n",
       " 'builder',\n",
       " 'catalog',\n",
       " 'conf',\n",
       " 'createDataFrame',\n",
       " 'newSession',\n",
       " 'range',\n",
       " 'read',\n",
       " 'readStream',\n",
       " 'sparkContext',\n",
       " 'sql',\n",
       " 'stop',\n",
       " 'streams',\n",
       " 'table',\n",
       " 'udf',\n",
       " 'version']"
      ]
     },
     "execution_count": 22,
     "metadata": {},
     "output_type": "execute_result"
    }
   ],
   "source": [
    "dir(spark) "
   ]
  },
  {
   "cell_type": "code",
   "execution_count": 26,
   "metadata": {},
   "outputs": [],
   "source": [
    "df2 = spark.read.csv('colaboradores.csv', header=True)"
   ]
  },
  {
   "cell_type": "code",
   "execution_count": 24,
   "metadata": {},
   "outputs": [
    {
     "data": {
      "text/plain": [
       "DataFrame[_c0: string, _c1: string, _c2: string, _c3: string, _c4: string, _c5: string]"
      ]
     },
     "execution_count": 24,
     "metadata": {},
     "output_type": "execute_result"
    }
   ],
   "source": [
    "df2"
   ]
  },
  {
   "cell_type": "code",
   "execution_count": 27,
   "metadata": {},
   "outputs": [
    {
     "name": "stdout",
     "output_type": "stream",
     "text": [
      "root\n",
      " |-- id: string (nullable = true)\n",
      " |-- nome: string (nullable = true)\n",
      " |-- cargo: string (nullable = true)\n",
      " |-- salario: string (nullable = true)\n",
      " |-- departamento: string (nullable = true)\n",
      " |-- datadeadmissao: string (nullable = true)\n",
      "\n"
     ]
    }
   ],
   "source": [
    "df2.printSchema()"
   ]
  },
  {
   "cell_type": "code",
   "execution_count": 28,
   "metadata": {},
   "outputs": [
    {
     "name": "stdout",
     "output_type": "stream",
     "text": [
      "+---------+------------+-------+--------------+-------+\n",
      "|    cargo|departamento|id_func|          nome|salario|\n",
      "+---------+------------+-------+--------------+-------+\n",
      "|Vendedora|      Vendas|     12|  Marcia Costa|   2700|\n",
      "|Vendedora|      Vendas|     14|Roberta Amaral|   2800|\n",
      "+---------+------------+-------+--------------+-------+\n",
      "\n"
     ]
    }
   ],
   "source": [
    "df.filter(df['salario']<3000).show() # Pandas"
   ]
  },
  {
   "cell_type": "code",
   "execution_count": 30,
   "metadata": {},
   "outputs": [
    {
     "name": "stdout",
     "output_type": "stream",
     "text": [
      "+---------+------------+-------+--------------+-------+\n",
      "|    cargo|departamento|id_func|          nome|salario|\n",
      "+---------+------------+-------+--------------+-------+\n",
      "|Vendedora|      Vendas|     12|  Marcia Costa|   2700|\n",
      "|Vendedora|      Vendas|     14|Roberta Amaral|   2800|\n",
      "+---------+------------+-------+--------------+-------+\n",
      "\n"
     ]
    }
   ],
   "source": [
    "df.filter('salario<3000').show()  # SQL"
   ]
  },
  {
   "cell_type": "code",
   "execution_count": 31,
   "metadata": {},
   "outputs": [
    {
     "name": "stdout",
     "output_type": "stream",
     "text": [
      "+---+--------------+\n",
      "| id|          nome|\n",
      "+---+--------------+\n",
      "| 12|  Marcia Costa|\n",
      "| 14|Roberta Amaral|\n",
      "+---+--------------+\n",
      "\n"
     ]
    }
   ],
   "source": [
    "df2.filter('salario<3000').select(['id', 'nome']).show()  # "
   ]
  },
  {
   "cell_type": "code",
   "execution_count": 32,
   "metadata": {},
   "outputs": [
    {
     "name": "stdout",
     "output_type": "stream",
     "text": [
      "+----------------+-----+\n",
      "|    departamento|count|\n",
      "+----------------+-----+\n",
      "|Recursos Humanos|    2|\n",
      "|        Projetos|    5|\n",
      "|          Vendas|    7|\n",
      "|   Administracao|    2|\n",
      "|     Treinamento|    4|\n",
      "+----------------+-----+\n",
      "\n"
     ]
    }
   ],
   "source": [
    "df2.groupBy('departamento').count().show()"
   ]
  },
  {
   "cell_type": "code",
   "execution_count": 34,
   "metadata": {},
   "outputs": [
    {
     "name": "stdout",
     "output_type": "stream",
     "text": [
      "+----------------+-----------------+\n",
      "|    departamento|     avg(salario)|\n",
      "+----------------+-----------------+\n",
      "|Recursos Humanos|           4800.0|\n",
      "|        Projetos|           5140.0|\n",
      "|          Vendas|3285.714285714286|\n",
      "|   Administracao|           7250.0|\n",
      "|     Treinamento|           4375.0|\n",
      "+----------------+-----------------+\n",
      "\n"
     ]
    }
   ],
   "source": [
    "df2.groupBy('departamento').agg({'salario' : 'mean'}).show()"
   ]
  },
  {
   "cell_type": "code",
   "execution_count": 35,
   "metadata": {},
   "outputs": [
    {
     "name": "stdout",
     "output_type": "stream",
     "text": [
      "+------------+\n",
      "|avg(salario)|\n",
      "+------------+\n",
      "|      4515.0|\n",
      "+------------+\n",
      "\n"
     ]
    }
   ],
   "source": [
    "df2.orderBy('departamento').agg({'salario' : 'mean'}).show()"
   ]
  },
  {
   "cell_type": "code",
   "execution_count": 37,
   "metadata": {},
   "outputs": [
    {
     "name": "stdout",
     "output_type": "stream",
     "text": [
      "+---+---------------+---------+-------+----------------+--------------+\n",
      "| id|           nome|    cargo|salario|    departamento|datadeadmissao|\n",
      "+---+---------------+---------+-------+----------------+--------------+\n",
      "| 12|   Marcia Costa|Vendedora|2700.00|          Vendas|    2015-02-17|\n",
      "| 14| Roberta Amaral|Vendedora|2800.00|          Vendas|    2015-10-17|\n",
      "| 16|   Rosana Rocha|Vendedora|3000.00|          Vendas|    2010-09-04|\n",
      "|  3|    Celia Silva|Vendedora|3500.00|          Vendas|    2011-02-07|\n",
      "| 10|   Paula Priore|Vendedora|3500.00|          Vendas|    2014-03-07|\n",
      "|  9|   Amanda Nunes|Vendedora|3500.00|          Vendas|    2014-02-28|\n",
      "|  2|   Bruno Garcia|Instrutor|4000.00|     Treinamento|    2010-01-06|\n",
      "| 11|     Carla Neto| Analista|4000.00|        Projetos|    2015-02-17|\n",
      "| 20|  Samantha Reis|Vendedora|4000.00|          Vendas|    2007-12-03|\n",
      "| 15|Rogerio Ribeiro|Instrutor|4000.00|     Treinamento|    2010-08-04|\n",
      "| 13|  Luciana Prado| Analista|4100.00|Recursos Humanos|    2015-09-17|\n",
      "|  5| Sandro Correia|Instrutor|4200.00|     Treinamento|    2012-02-15|\n",
      "|  1|  Marcio Santos| Analista|5000.00|        Projetos|    2010-01-04|\n",
      "|  7|   Cacio Farias| Analista|5100.00|        Projetos|    2012-10-25|\n",
      "|  6|   Leticia Dias| Analista|5100.00|        Projetos|    2012-04-26|\n",
      "| 19|Sergio Nogueira|Instrutor|5300.00|     Treinamento|    2008-10-25|\n",
      "|  4|   Beatriz Dias| Gerencia|5500.00|Recursos Humanos|    2011-09-22|\n",
      "| 17|Claudio Queiroz| Analista|6500.00|        Projetos|    2011-01-04|\n",
      "|  8|     Cezar Maia| Gerencia|7000.00|   Administracao|    2014-02-21|\n",
      "| 18|   Diego Chaves| Gerencia|7500.00|   Administracao|    2009-10-25|\n",
      "+---+---------------+---------+-------+----------------+--------------+\n",
      "\n"
     ]
    }
   ],
   "source": [
    "df2.orderBy('salario').show()"
   ]
  },
  {
   "cell_type": "code",
   "execution_count": 41,
   "metadata": {},
   "outputs": [],
   "source": [
    "from pyspark.sql.functions import avg, stddev\n",
    "\n"
   ]
  },
  {
   "cell_type": "code",
   "execution_count": 42,
   "metadata": {},
   "outputs": [
    {
     "name": "stdout",
     "output_type": "stream",
     "text": [
      "+------------+\n",
      "|avg(salario)|\n",
      "+------------+\n",
      "|      4515.0|\n",
      "+------------+\n",
      "\n"
     ]
    }
   ],
   "source": [
    "df2.select(avg('salario')).show()"
   ]
  },
  {
   "cell_type": "code",
   "execution_count": 43,
   "metadata": {
    "scrolled": true
   },
   "outputs": [
    {
     "name": "stdout",
     "output_type": "stream",
     "text": [
      "+--------------------+\n",
      "|stddev_samp(salario)|\n",
      "+--------------------+\n",
      "|    1347.22912520086|\n",
      "+--------------------+\n",
      "\n"
     ]
    }
   ],
   "source": [
    "df2.select(stddev('salario')).show()"
   ]
  },
  {
   "cell_type": "code",
   "execution_count": 45,
   "metadata": {},
   "outputs": [
    {
     "name": "stdout",
     "output_type": "stream",
     "text": [
      "+----------------+\n",
      "|             std|\n",
      "+----------------+\n",
      "|1347.22912520086|\n",
      "+----------------+\n",
      "\n"
     ]
    }
   ],
   "source": [
    "df2.select(stddev('salario').alias('std')).show()"
   ]
  },
  {
   "cell_type": "code",
   "execution_count": 52,
   "metadata": {},
   "outputs": [],
   "source": [
    "from pyspark.sql.functions import hour, dayofyear, month, year "
   ]
  },
  {
   "cell_type": "code",
   "execution_count": 55,
   "metadata": {},
   "outputs": [
    {
     "data": {
      "text/plain": [
       "DataFrame[month(datadeadmissao): int]"
      ]
     },
     "execution_count": 55,
     "metadata": {},
     "output_type": "execute_result"
    }
   ],
   "source": [
    "df2.select(\n",
    "    month(\n",
    "        df2['datadeadmissao']\n",
    " )\n",
    ")"
   ]
  },
  {
   "cell_type": "code",
   "execution_count": 59,
   "metadata": {},
   "outputs": [],
   "source": [
    "df3 = spark.read.csv('colaboradores_data_missing.csv',  header=True)"
   ]
  },
  {
   "cell_type": "code",
   "execution_count": 60,
   "metadata": {},
   "outputs": [
    {
     "data": {
      "text/plain": [
       "DataFrame[id: string, nome: string, cargo: string, salario: string, departamento: string, datadeadmissao: string]"
      ]
     },
     "execution_count": 60,
     "metadata": {},
     "output_type": "execute_result"
    }
   ],
   "source": [
    "df3"
   ]
  },
  {
   "cell_type": "code",
   "execution_count": 62,
   "metadata": {},
   "outputs": [
    {
     "name": "stdout",
     "output_type": "stream",
     "text": [
      "+---+---------------+---------+-------+----------------+--------------+\n",
      "| id|           nome|    cargo|salario|    departamento|datadeadmissao|\n",
      "+---+---------------+---------+-------+----------------+--------------+\n",
      "|  1|  Marcio Santos| Analista|5000.00|        Projetos|    2010-01-04|\n",
      "|  2|   Bruno Garcia|Instrutor|4000.00|     Treinamento|    2010-01-06|\n",
      "|  4|   Beatriz Dias| Gerencia|5500.00|Recursos Humanos|    2011-09-22|\n",
      "|  5| Sandro Correia|Instrutor|4200.00|     Treinamento|    2012-02-15|\n",
      "|  7|   Cacio Farias| Analista|5100.00|        Projetos|    2012-10-25|\n",
      "|  9|   Amanda Nunes|Vendedora|3500.00|          Vendas|    2014-02-28|\n",
      "| 10|   Paula Priore|Vendedora|3500.00|          Vendas|    2014-03-07|\n",
      "| 11|     Carla Neto| Analista|4000.00|        Projetos|    2015-02-17|\n",
      "| 13|  Luciana Prado| Analista|4100.00|Recursos Humanos|    2015-09-17|\n",
      "| 14| Roberta Amaral|Vendedora|2800.00|          Vendas|    2015-10-17|\n",
      "| 15|Rogerio Ribeiro|Instrutor|4000.00|     Treinamento|    2010-08-04|\n",
      "| 17|Claudio Queiroz| Analista|6500.00|        Projetos|    2011-01-04|\n",
      "| 18|   Diego Chaves| Gerencia|7500.00|   Administracao|    2009-10-25|\n",
      "| 19|Sergio Nogueira|Instrutor|5300.00|     Treinamento|    2008-10-25|\n",
      "| 20|  Samantha Reis|Vendedora|4000.00|          Vendas|    2007-12-03|\n",
      "+---+---------------+---------+-------+----------------+--------------+\n",
      "\n"
     ]
    }
   ],
   "source": [
    "df3.na.drop().show()"
   ]
  },
  {
   "cell_type": "code",
   "execution_count": 65,
   "metadata": {},
   "outputs": [
    {
     "name": "stdout",
     "output_type": "stream",
     "text": [
      "+---+---------------+---------+-------+----------------+--------------+\n",
      "| id|           nome|    cargo|salario|    departamento|datadeadmissao|\n",
      "+---+---------------+---------+-------+----------------+--------------+\n",
      "|  1|  Marcio Santos| Analista|5000.00|        Projetos|    2010-01-04|\n",
      "|  2|   Bruno Garcia|Instrutor|4000.00|     Treinamento|    2010-01-06|\n",
      "|  4|   Beatriz Dias| Gerencia|5500.00|Recursos Humanos|    2011-09-22|\n",
      "|  5| Sandro Correia|Instrutor|4200.00|     Treinamento|    2012-02-15|\n",
      "|  7|   Cacio Farias| Analista|5100.00|        Projetos|    2012-10-25|\n",
      "|  9|   Amanda Nunes|Vendedora|3500.00|          Vendas|    2014-02-28|\n",
      "| 10|   Paula Priore|Vendedora|3500.00|          Vendas|    2014-03-07|\n",
      "| 11|     Carla Neto| Analista|4000.00|        Projetos|    2015-02-17|\n",
      "| 13|  Luciana Prado| Analista|4100.00|Recursos Humanos|    2015-09-17|\n",
      "| 14| Roberta Amaral|Vendedora|2800.00|          Vendas|    2015-10-17|\n",
      "| 15|Rogerio Ribeiro|Instrutor|4000.00|     Treinamento|    2010-08-04|\n",
      "| 17|Claudio Queiroz| Analista|6500.00|        Projetos|    2011-01-04|\n",
      "| 18|   Diego Chaves| Gerencia|7500.00|   Administracao|    2009-10-25|\n",
      "| 19|Sergio Nogueira|Instrutor|5300.00|     Treinamento|    2008-10-25|\n",
      "| 20|  Samantha Reis|Vendedora|4000.00|          Vendas|    2007-12-03|\n",
      "+---+---------------+---------+-------+----------------+--------------+\n",
      "\n"
     ]
    }
   ],
   "source": [
    "df3.na.drop(thresh=6).show() # thresh traz os valores nao nulos 6 colunas nao nulas restringe bastante . se for 5 vai vir alguns como nulo. e assim por dinte, 4 ..."
   ]
  },
  {
   "cell_type": "code",
   "execution_count": 66,
   "metadata": {},
   "outputs": [
    {
     "name": "stdout",
     "output_type": "stream",
     "text": [
      "+---+---------------+---------+-------+----------------+--------------+\n",
      "| id|           nome|    cargo|salario|    departamento|datadeadmissao|\n",
      "+---+---------------+---------+-------+----------------+--------------+\n",
      "|  1|  Marcio Santos| Analista|5000.00|        Projetos|    2010-01-04|\n",
      "|  2|   Bruno Garcia|Instrutor|4000.00|     Treinamento|    2010-01-06|\n",
      "|  4|   Beatriz Dias| Gerencia|5500.00|Recursos Humanos|    2011-09-22|\n",
      "|  5| Sandro Correia|Instrutor|4200.00|     Treinamento|    2012-02-15|\n",
      "|  7|   Cacio Farias| Analista|5100.00|        Projetos|    2012-10-25|\n",
      "|  9|   Amanda Nunes|Vendedora|3500.00|          Vendas|    2014-02-28|\n",
      "| 10|   Paula Priore|Vendedora|3500.00|          Vendas|    2014-03-07|\n",
      "| 11|     Carla Neto| Analista|4000.00|        Projetos|    2015-02-17|\n",
      "| 13|  Luciana Prado| Analista|4100.00|Recursos Humanos|    2015-09-17|\n",
      "| 14| Roberta Amaral|Vendedora|2800.00|          Vendas|    2015-10-17|\n",
      "| 15|Rogerio Ribeiro|Instrutor|4000.00|     Treinamento|    2010-08-04|\n",
      "| 17|Claudio Queiroz| Analista|6500.00|        Projetos|    2011-01-04|\n",
      "| 18|   Diego Chaves| Gerencia|7500.00|   Administracao|    2009-10-25|\n",
      "| 19|Sergio Nogueira|Instrutor|5300.00|     Treinamento|    2008-10-25|\n",
      "| 20|  Samantha Reis|Vendedora|4000.00|          Vendas|    2007-12-03|\n",
      "+---+---------------+---------+-------+----------------+--------------+\n",
      "\n"
     ]
    }
   ],
   "source": [
    "df3.na.drop(how='any').show() # dropa ou seja ranca fora todos volores não nulos"
   ]
  },
  {
   "cell_type": "code",
   "execution_count": 67,
   "metadata": {},
   "outputs": [
    {
     "name": "stdout",
     "output_type": "stream",
     "text": [
      "+---+---------------+---------+-------+----------------+--------------+\n",
      "| id|           nome|    cargo|salario|    departamento|datadeadmissao|\n",
      "+---+---------------+---------+-------+----------------+--------------+\n",
      "|  1|  Marcio Santos| Analista|5000.00|        Projetos|    2010-01-04|\n",
      "|  2|   Bruno Garcia|Instrutor|4000.00|     Treinamento|    2010-01-06|\n",
      "|  3|    Celia Silva|Vendedora|   null|            null|    2011-02-07|\n",
      "|  4|   Beatriz Dias| Gerencia|5500.00|Recursos Humanos|    2011-09-22|\n",
      "|  5| Sandro Correia|Instrutor|4200.00|     Treinamento|    2012-02-15|\n",
      "|  6|   Leticia Dias| Analista|   null|        Projetos|    2012-04-26|\n",
      "|  7|   Cacio Farias| Analista|5100.00|        Projetos|    2012-10-25|\n",
      "|  8|     Cezar Maia| Gerencia|7000.00|            null|    2014-02-21|\n",
      "|  9|   Amanda Nunes|Vendedora|3500.00|          Vendas|    2014-02-28|\n",
      "| 10|   Paula Priore|Vendedora|3500.00|          Vendas|    2014-03-07|\n",
      "| 11|     Carla Neto| Analista|4000.00|        Projetos|    2015-02-17|\n",
      "| 12|   Marcia Costa|Vendedora|   null|            null|    2015-02-17|\n",
      "| 13|  Luciana Prado| Analista|4100.00|Recursos Humanos|    2015-09-17|\n",
      "| 14| Roberta Amaral|Vendedora|2800.00|          Vendas|    2015-10-17|\n",
      "| 15|Rogerio Ribeiro|Instrutor|4000.00|     Treinamento|    2010-08-04|\n",
      "| 16|   Rosana Rocha|Vendedora|   null|          Vendas|    2010-09-04|\n",
      "| 17|Claudio Queiroz| Analista|6500.00|        Projetos|    2011-01-04|\n",
      "| 18|   Diego Chaves| Gerencia|7500.00|   Administracao|    2009-10-25|\n",
      "| 19|Sergio Nogueira|Instrutor|5300.00|     Treinamento|    2008-10-25|\n",
      "| 20|  Samantha Reis|Vendedora|4000.00|          Vendas|    2007-12-03|\n",
      "+---+---------------+---------+-------+----------------+--------------+\n",
      "\n"
     ]
    }
   ],
   "source": [
    "df3.na.fill(1000.00).show()"
   ]
  },
  {
   "cell_type": "code",
   "execution_count": 68,
   "metadata": {},
   "outputs": [],
   "source": [
    "from pyspark.sql.types import DoubleType"
   ]
  },
  {
   "cell_type": "code",
   "execution_count": 71,
   "metadata": {},
   "outputs": [
    {
     "name": "stdout",
     "output_type": "stream",
     "text": [
      "+---+---------------+---------+-------+----------------+--------------+\n",
      "| id|           nome|    cargo|salario|    departamento|datadeadmissao|\n",
      "+---+---------------+---------+-------+----------------+--------------+\n",
      "|  1|  Marcio Santos| Analista|5000.00|        Projetos|    2010-01-04|\n",
      "|  2|   Bruno Garcia|Instrutor|4000.00|     Treinamento|    2010-01-06|\n",
      "|  3|    Celia Silva|Vendedora| 100.00|            null|    2011-02-07|\n",
      "|  4|   Beatriz Dias| Gerencia|5500.00|Recursos Humanos|    2011-09-22|\n",
      "|  5| Sandro Correia|Instrutor|4200.00|     Treinamento|    2012-02-15|\n",
      "|  6|   Leticia Dias| Analista| 100.00|        Projetos|    2012-04-26|\n",
      "|  7|   Cacio Farias| Analista|5100.00|        Projetos|    2012-10-25|\n",
      "|  8|     Cezar Maia| Gerencia|7000.00|            null|    2014-02-21|\n",
      "|  9|   Amanda Nunes|Vendedora|3500.00|          Vendas|    2014-02-28|\n",
      "| 10|   Paula Priore|Vendedora|3500.00|          Vendas|    2014-03-07|\n",
      "| 11|     Carla Neto| Analista|4000.00|        Projetos|    2015-02-17|\n",
      "| 12|   Marcia Costa|Vendedora| 100.00|            null|    2015-02-17|\n",
      "| 13|  Luciana Prado| Analista|4100.00|Recursos Humanos|    2015-09-17|\n",
      "| 14| Roberta Amaral|Vendedora|2800.00|          Vendas|    2015-10-17|\n",
      "| 15|Rogerio Ribeiro|Instrutor|4000.00|     Treinamento|    2010-08-04|\n",
      "| 16|   Rosana Rocha|Vendedora| 100.00|          Vendas|    2010-09-04|\n",
      "| 17|Claudio Queiroz| Analista|6500.00|        Projetos|    2011-01-04|\n",
      "| 18|   Diego Chaves| Gerencia|7500.00|   Administracao|    2009-10-25|\n",
      "| 19|Sergio Nogueira|Instrutor|5300.00|     Treinamento|    2008-10-25|\n",
      "| 20|  Samantha Reis|Vendedora|4000.00|          Vendas|    2007-12-03|\n",
      "+---+---------------+---------+-------+----------------+--------------+\n",
      "\n"
     ]
    }
   ],
   "source": [
    "df3.na.fill('100.00', subset=['salario']).show()"
   ]
  },
  {
   "cell_type": "code",
   "execution_count": 72,
   "metadata": {},
   "outputs": [
    {
     "data": {
      "text/plain": [
       "['__class__',\n",
       " '__delattr__',\n",
       " '__dict__',\n",
       " '__dir__',\n",
       " '__doc__',\n",
       " '__eq__',\n",
       " '__format__',\n",
       " '__ge__',\n",
       " '__getattribute__',\n",
       " '__gt__',\n",
       " '__hash__',\n",
       " '__init__',\n",
       " '__init_subclass__',\n",
       " '__le__',\n",
       " '__lt__',\n",
       " '__module__',\n",
       " '__ne__',\n",
       " '__new__',\n",
       " '__reduce__',\n",
       " '__reduce_ex__',\n",
       " '__repr__',\n",
       " '__setattr__',\n",
       " '__sizeof__',\n",
       " '__str__',\n",
       " '__subclasshook__',\n",
       " '__weakref__',\n",
       " 'df',\n",
       " 'drop',\n",
       " 'fill',\n",
       " 'replace']"
      ]
     },
     "execution_count": 72,
     "metadata": {},
     "output_type": "execute_result"
    }
   ],
   "source": [
    "dir(df3.na)"
   ]
  },
  {
   "cell_type": "code",
   "execution_count": null,
   "metadata": {},
   "outputs": [],
   "source": [
    "from pyspark.sql.types import ( \n",
    "    StructField, \n",
    "    StringType, \n",
    "    IntegerType, \n",
    "    StructType\n",
    "                               )\n",
    "schema = StructType(fields=[\n",
    "    StructField('cargo',StringType(), nullable=True), \n",
    "    StructField('departamento',StringType(), nullable=True), \n",
    "    StructField('id_func', IntegerType(), nullable=True), \n",
    "    StructField('nome', StringType(), nullable=True),\n",
    "    StructField('salario', StringType(), nullable=True)\n",
    "                           ])\n",
    "df  = spark.read.json('funcionarios.json', schema)"
   ]
  },
  {
   "cell_type": "code",
   "execution_count": 75,
   "metadata": {},
   "outputs": [],
   "source": [
    "schema = StructType(fields=[\n",
    "    StructField('id', IntegerType(), nullable=True), \n",
    "    StructField('nome', StringType(), nullable=True),\n",
    "    StructField('cargo', StringType(), nullable=True),\n",
    "    StructField('salario', DoubleType(), nullable=True),\n",
    "    StructField('departamento', StringType(), nullable=True),\n",
    "    StructField('datadeadmissao', StringType(), nullable=True) \n",
    "        \n",
    "])\n",
    "df4  = spark.read.csv('colaboradores_data_missing.csv', header=True, schema=schema)"
   ]
  },
  {
   "cell_type": "code",
   "execution_count": 79,
   "metadata": {},
   "outputs": [
    {
     "name": "stdout",
     "output_type": "stream",
     "text": [
      "+---+---------------+---------+-------+----------------+--------------+\n",
      "| id|           nome|    cargo|salario|    departamento|datadeadmissao|\n",
      "+---+---------------+---------+-------+----------------+--------------+\n",
      "|  1|  Marcio Santos| Analista| 5000.0|        Projetos|    2010-01-04|\n",
      "|  2|   Bruno Garcia|Instrutor| 4000.0|     Treinamento|    2010-01-06|\n",
      "|  3|    Celia Silva|Vendedora|   null|               0|    2011-02-07|\n",
      "|  4|   Beatriz Dias| Gerencia| 5500.0|Recursos Humanos|    2011-09-22|\n",
      "|  5| Sandro Correia|Instrutor| 4200.0|     Treinamento|    2012-02-15|\n",
      "|  6|   Leticia Dias| Analista|   null|        Projetos|    2012-04-26|\n",
      "|  7|   Cacio Farias| Analista| 5100.0|        Projetos|    2012-10-25|\n",
      "|  8|     Cezar Maia| Gerencia| 7000.0|               0|    2014-02-21|\n",
      "|  9|   Amanda Nunes|Vendedora| 3500.0|          Vendas|    2014-02-28|\n",
      "| 10|   Paula Priore|Vendedora| 3500.0|          Vendas|    2014-03-07|\n",
      "| 11|     Carla Neto| Analista| 4000.0|        Projetos|    2015-02-17|\n",
      "| 12|   Marcia Costa|Vendedora|   null|               0|    2015-02-17|\n",
      "| 13|  Luciana Prado| Analista| 4100.0|Recursos Humanos|    2015-09-17|\n",
      "| 14| Roberta Amaral|Vendedora| 2800.0|          Vendas|    2015-10-17|\n",
      "| 15|Rogerio Ribeiro|Instrutor| 4000.0|     Treinamento|    2010-08-04|\n",
      "| 16|   Rosana Rocha|Vendedora|   null|          Vendas|    2010-09-04|\n",
      "| 17|Claudio Queiroz| Analista| 6500.0|        Projetos|    2011-01-04|\n",
      "| 18|   Diego Chaves| Gerencia| 7500.0|   Administracao|    2009-10-25|\n",
      "| 19|Sergio Nogueira|Instrutor| 5300.0|     Treinamento|    2008-10-25|\n",
      "| 20|  Samantha Reis|Vendedora| 4000.0|          Vendas|    2007-12-03|\n",
      "+---+---------------+---------+-------+----------------+--------------+\n",
      "\n"
     ]
    }
   ],
   "source": [
    "df4.na.fill('0', subset=['departamento']).show() ALTERNE ENTRE OS VALORES PARA VER TRATAMENTO DE NULL NO DEPARTAMENTO OU 0 NO SALARIO\n",
    "#df4.na.fill(0, subset=['salario']).show()"
   ]
  },
  {
   "cell_type": "code",
   "execution_count": 82,
   "metadata": {},
   "outputs": [
    {
     "name": "stdout",
     "output_type": "stream",
     "text": [
      "+---+---------------+---------+-------+----------------+--------------+\n",
      "| id|           nome|    cargo|salario|    departamento|datadeadmissao|\n",
      "+---+---------------+---------+-------+----------------+--------------+\n",
      "|  1|  Marcio Santos| Analista| 5000.0|        Projetos|    2010-01-04|\n",
      "|  2|   Bruno Garcia|Instrutor| 4000.0|     Treinamento|    2010-01-06|\n",
      "|  3|    Celia Silva|Vendedora|    0.0|             NAO|    2011-02-07|\n",
      "|  4|   Beatriz Dias| Gerencia| 5500.0|Recursos Humanos|    2011-09-22|\n",
      "|  5| Sandro Correia|Instrutor| 4200.0|     Treinamento|    2012-02-15|\n",
      "|  6|   Leticia Dias| Analista|    0.0|        Projetos|    2012-04-26|\n",
      "|  7|   Cacio Farias| Analista| 5100.0|        Projetos|    2012-10-25|\n",
      "|  8|     Cezar Maia| Gerencia| 7000.0|             NAO|    2014-02-21|\n",
      "|  9|   Amanda Nunes|Vendedora| 3500.0|          Vendas|    2014-02-28|\n",
      "| 10|   Paula Priore|Vendedora| 3500.0|          Vendas|    2014-03-07|\n",
      "| 11|     Carla Neto| Analista| 4000.0|        Projetos|    2015-02-17|\n",
      "| 12|   Marcia Costa|Vendedora|    0.0|             NAO|    2015-02-17|\n",
      "| 13|  Luciana Prado| Analista| 4100.0|Recursos Humanos|    2015-09-17|\n",
      "| 14| Roberta Amaral|Vendedora| 2800.0|          Vendas|    2015-10-17|\n",
      "| 15|Rogerio Ribeiro|Instrutor| 4000.0|     Treinamento|    2010-08-04|\n",
      "| 16|   Rosana Rocha|Vendedora|    0.0|          Vendas|    2010-09-04|\n",
      "| 17|Claudio Queiroz| Analista| 6500.0|        Projetos|    2011-01-04|\n",
      "| 18|   Diego Chaves| Gerencia| 7500.0|   Administracao|    2009-10-25|\n",
      "| 19|Sergio Nogueira|Instrutor| 5300.0|     Treinamento|    2008-10-25|\n",
      "| 20|  Samantha Reis|Vendedora| 4000.0|          Vendas|    2007-12-03|\n",
      "+---+---------------+---------+-------+----------------+--------------+\n",
      "\n"
     ]
    }
   ],
   "source": [
    "df4.na.fill(0).na.fill('NAO').show() # da hora ficou bom"
   ]
  },
  {
   "cell_type": "code",
   "execution_count": null,
   "metadata": {},
   "outputs": [],
   "source": []
  }
 ],
 "metadata": {
  "kernelspec": {
   "display_name": "Python 3",
   "language": "python",
   "name": "python3"
  },
  "language_info": {
   "codemirror_mode": {
    "name": "ipython",
    "version": 3
   },
   "file_extension": ".py",
   "mimetype": "text/x-python",
   "name": "python",
   "nbconvert_exporter": "python",
   "pygments_lexer": "ipython3",
   "version": "3.6.5"
  }
 },
 "nbformat": 4,
 "nbformat_minor": 2
}
